{
  "nbformat": 4,
  "nbformat_minor": 0,
  "metadata": {
    "colab": {
      "provenance": [],
      "authorship_tag": "ABX9TyMrm+5Na1sMZ3zoutrZlLZV",
      "include_colab_link": true
    },
    "kernelspec": {
      "name": "python3",
      "display_name": "Python 3"
    },
    "language_info": {
      "name": "python"
    }
  },
  "cells": [
    {
      "cell_type": "markdown",
      "metadata": {
        "id": "view-in-github",
        "colab_type": "text"
      },
      "source": [
        "<a href=\"https://colab.research.google.com/github/Anubhav-singh-lab/Cyfuture/blob/main/Cyfuture.ipynb\" target=\"_parent\"><img src=\"https://colab.research.google.com/assets/colab-badge.svg\" alt=\"Open In Colab\"/></a>"
      ]
    },
    {
      "cell_type": "code",
      "execution_count": 1,
      "metadata": {
        "colab": {
          "base_uri": "https://localhost:8080/"
        },
        "id": "rG-0ompwLRta",
        "outputId": "a6ed1645-4b8b-4e74-b10a-75d4707e5745"
      },
      "outputs": [
        {
          "output_type": "stream",
          "name": "stdout",
          "text": [
            "Movies similar to 'Inception':\n",
            "0         The Matrix\n",
            "1          John Wick\n",
            "5    The Dark Knight\n",
            "Name: title, dtype: object\n"
          ]
        }
      ],
      "source": [
        "import pandas as pd\n",
        "from sklearn.feature_extraction.text import TfidfVectorizer\n",
        "from sklearn.metrics.pairwise import linear_kernel\n",
        "\n",
        "\n",
        "movies = pd.DataFrame({\n",
        "    'title': [\n",
        "        'The Matrix', 'John Wick', 'Toy Story', 'Finding Nemo',\n",
        "        'The Godfather', 'The Dark Knight', 'Inception', 'The Lion King'\n",
        "    ],\n",
        "    'genre': [\n",
        "        'Action Sci-Fi', 'Action Thriller', 'Animation Family',\n",
        "        'Animation Adventure', 'Crime Drama', 'Action Crime Drama',\n",
        "        'Action Sci-Fi Thriller', 'Animation Musical Family'\n",
        "    ]\n",
        "})\n",
        "\n",
        "\n",
        "tfidf = TfidfVectorizer(stop_words='english')\n",
        "tfidf_matrix = tfidf.fit_transform(movies['genre'])\n",
        "\n",
        "cosine_sim = linear_kernel(tfidf_matrix, tfidf_matrix)\n",
        "\n",
        "\n",
        "indices = pd.Series(movies.index, index=movies['title'])\n",
        "\n",
        "\n",
        "def recommend(title, num_recommendations=3):\n",
        "    idx = indices[title]\n",
        "    sim_scores = list(enumerate(cosine_sim[idx]))\n",
        "    sim_scores = sorted(sim_scores, key=lambda x: x[1], reverse=True)\n",
        "    sim_scores = sim_scores[1:num_recommendations+1]\n",
        "    movie_indices = [i[0] for i in sim_scores]\n",
        "    return movies['title'].iloc[movie_indices]\n",
        "\n",
        "\n",
        "user_input = 'Inception'\n",
        "print(f\"Movies similar to '{user_input}':\")\n",
        "print(recommend(user_input))\n"
      ]
    }
  ]
}